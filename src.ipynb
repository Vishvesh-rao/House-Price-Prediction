{
  "nbformat": 4,
  "nbformat_minor": 0,
  "metadata": {
    "colab": {
      "name": "ML-Final.ipynb",
      "provenance": [],
      "collapsed_sections": [],
      "authorship_tag": "ABX9TyOAPME+ju60FGzWnOaZRvL7",
      "include_colab_link": true
    },
    "kernelspec": {
      "display_name": "Python 3",
      "name": "python3"
    },
    "language_info": {
      "name": "python"
    },
    "widgets": {
      "application/vnd.jupyter.widget-state+json": {
        "9b0c076509db43a3a8dcce598c59cc99": {
          "model_module": "@jupyter-widgets/controls",
          "model_name": "HBoxModel",
          "model_module_version": "1.5.0",
          "state": {
            "_view_name": "HBoxView",
            "_dom_classes": [],
            "_model_name": "HBoxModel",
            "_view_module": "@jupyter-widgets/controls",
            "_model_module_version": "1.5.0",
            "_view_count": null,
            "_view_module_version": "1.5.0",
            "box_style": "",
            "layout": "IPY_MODEL_4b74922f884b4159ae56e5218ded321f",
            "_model_module": "@jupyter-widgets/controls",
            "children": [
              "IPY_MODEL_4450fba8d0b2442e865261f7ba900a2b",
              "IPY_MODEL_3f177da6da8641d49e8d2cc664073e07",
              "IPY_MODEL_33036d8b210e480b8d46dd566d9f0c62"
            ]
          }
        },
        "4b74922f884b4159ae56e5218ded321f": {
          "model_module": "@jupyter-widgets/base",
          "model_name": "LayoutModel",
          "model_module_version": "1.2.0",
          "state": {
            "_view_name": "LayoutView",
            "grid_template_rows": null,
            "right": null,
            "justify_content": null,
            "_view_module": "@jupyter-widgets/base",
            "overflow": null,
            "_model_module_version": "1.2.0",
            "_view_count": null,
            "flex_flow": "row wrap",
            "width": "100%",
            "min_width": null,
            "border": null,
            "align_items": null,
            "bottom": null,
            "_model_module": "@jupyter-widgets/base",
            "top": null,
            "grid_column": null,
            "overflow_y": null,
            "overflow_x": null,
            "grid_auto_flow": null,
            "grid_area": null,
            "grid_template_columns": null,
            "flex": null,
            "_model_name": "LayoutModel",
            "justify_items": null,
            "grid_row": null,
            "max_height": null,
            "align_content": null,
            "visibility": null,
            "align_self": null,
            "height": null,
            "min_height": null,
            "padding": null,
            "grid_auto_rows": null,
            "grid_gap": null,
            "max_width": null,
            "order": null,
            "_view_module_version": "1.2.0",
            "grid_template_areas": null,
            "object_position": null,
            "object_fit": null,
            "grid_auto_columns": null,
            "margin": null,
            "display": "inline-flex",
            "left": null
          }
        },
        "4450fba8d0b2442e865261f7ba900a2b": {
          "model_module": "@jupyter-widgets/controls",
          "model_name": "HTMLModel",
          "model_module_version": "1.5.0",
          "state": {
            "_view_name": "HTMLView",
            "style": "IPY_MODEL_d7d6659066ac40fb823b2698a7c90b63",
            "_dom_classes": [],
            "description": "",
            "_model_name": "HTMLModel",
            "placeholder": "​",
            "_view_module": "@jupyter-widgets/controls",
            "_model_module_version": "1.5.0",
            "value": "Done! Use &#x27;show&#x27; commands to display/save.   ",
            "_view_count": null,
            "_view_module_version": "1.5.0",
            "description_tooltip": null,
            "_model_module": "@jupyter-widgets/controls",
            "layout": "IPY_MODEL_6b97b67e09264ef3b05cc11242f56da9"
          }
        },
        "3f177da6da8641d49e8d2cc664073e07": {
          "model_module": "@jupyter-widgets/controls",
          "model_name": "FloatProgressModel",
          "model_module_version": "1.5.0",
          "state": {
            "_view_name": "ProgressView",
            "style": "IPY_MODEL_e9f173047a8548e99b0a8e529ad1a042",
            "_dom_classes": [],
            "description": "",
            "_model_name": "FloatProgressModel",
            "bar_style": "success",
            "max": 1,
            "_view_module": "@jupyter-widgets/controls",
            "_model_module_version": "1.5.0",
            "value": 1,
            "_view_count": null,
            "_view_module_version": "1.5.0",
            "orientation": "horizontal",
            "min": 0,
            "description_tooltip": null,
            "_model_module": "@jupyter-widgets/controls",
            "layout": "IPY_MODEL_bf73c09fd6d94349a150fe359f0c78f2"
          }
        },
        "33036d8b210e480b8d46dd566d9f0c62": {
          "model_module": "@jupyter-widgets/controls",
          "model_name": "HTMLModel",
          "model_module_version": "1.5.0",
          "state": {
            "_view_name": "HTMLView",
            "style": "IPY_MODEL_7e18b4b5620d4a8b915178c0444052ce",
            "_dom_classes": [],
            "description": "",
            "_model_name": "HTMLModel",
            "placeholder": "​",
            "_view_module": "@jupyter-widgets/controls",
            "_model_module_version": "1.5.0",
            "value": " [100%]   00:00 -&gt; (00:00 left)",
            "_view_count": null,
            "_view_module_version": "1.5.0",
            "description_tooltip": null,
            "_model_module": "@jupyter-widgets/controls",
            "layout": "IPY_MODEL_d15e6571c3bc4d9db5feb3c01c313eeb"
          }
        },
        "d7d6659066ac40fb823b2698a7c90b63": {
          "model_module": "@jupyter-widgets/controls",
          "model_name": "DescriptionStyleModel",
          "model_module_version": "1.5.0",
          "state": {
            "_view_name": "StyleView",
            "_model_name": "DescriptionStyleModel",
            "description_width": "",
            "_view_module": "@jupyter-widgets/base",
            "_model_module_version": "1.5.0",
            "_view_count": null,
            "_view_module_version": "1.2.0",
            "_model_module": "@jupyter-widgets/controls"
          }
        },
        "6b97b67e09264ef3b05cc11242f56da9": {
          "model_module": "@jupyter-widgets/base",
          "model_name": "LayoutModel",
          "model_module_version": "1.2.0",
          "state": {
            "_view_name": "LayoutView",
            "grid_template_rows": null,
            "right": null,
            "justify_content": null,
            "_view_module": "@jupyter-widgets/base",
            "overflow": null,
            "_model_module_version": "1.2.0",
            "_view_count": null,
            "flex_flow": null,
            "width": null,
            "min_width": null,
            "border": null,
            "align_items": null,
            "bottom": null,
            "_model_module": "@jupyter-widgets/base",
            "top": null,
            "grid_column": null,
            "overflow_y": null,
            "overflow_x": null,
            "grid_auto_flow": null,
            "grid_area": null,
            "grid_template_columns": null,
            "flex": null,
            "_model_name": "LayoutModel",
            "justify_items": null,
            "grid_row": null,
            "max_height": null,
            "align_content": null,
            "visibility": null,
            "align_self": null,
            "height": null,
            "min_height": null,
            "padding": null,
            "grid_auto_rows": null,
            "grid_gap": null,
            "max_width": null,
            "order": null,
            "_view_module_version": "1.2.0",
            "grid_template_areas": null,
            "object_position": null,
            "object_fit": null,
            "grid_auto_columns": null,
            "margin": null,
            "display": null,
            "left": null
          }
        },
        "e9f173047a8548e99b0a8e529ad1a042": {
          "model_module": "@jupyter-widgets/controls",
          "model_name": "ProgressStyleModel",
          "model_module_version": "1.5.0",
          "state": {
            "_view_name": "StyleView",
            "_model_name": "ProgressStyleModel",
            "description_width": "",
            "_view_module": "@jupyter-widgets/base",
            "_model_module_version": "1.5.0",
            "_view_count": null,
            "_view_module_version": "1.2.0",
            "bar_color": null,
            "_model_module": "@jupyter-widgets/controls"
          }
        },
        "bf73c09fd6d94349a150fe359f0c78f2": {
          "model_module": "@jupyter-widgets/base",
          "model_name": "LayoutModel",
          "model_module_version": "1.2.0",
          "state": {
            "_view_name": "LayoutView",
            "grid_template_rows": null,
            "right": null,
            "justify_content": null,
            "_view_module": "@jupyter-widgets/base",
            "overflow": null,
            "_model_module_version": "1.2.0",
            "_view_count": null,
            "flex_flow": null,
            "width": null,
            "min_width": null,
            "border": null,
            "align_items": null,
            "bottom": null,
            "_model_module": "@jupyter-widgets/base",
            "top": null,
            "grid_column": null,
            "overflow_y": null,
            "overflow_x": null,
            "grid_auto_flow": null,
            "grid_area": null,
            "grid_template_columns": null,
            "flex": "2",
            "_model_name": "LayoutModel",
            "justify_items": null,
            "grid_row": null,
            "max_height": null,
            "align_content": null,
            "visibility": null,
            "align_self": null,
            "height": null,
            "min_height": null,
            "padding": null,
            "grid_auto_rows": null,
            "grid_gap": null,
            "max_width": null,
            "order": null,
            "_view_module_version": "1.2.0",
            "grid_template_areas": null,
            "object_position": null,
            "object_fit": null,
            "grid_auto_columns": null,
            "margin": null,
            "display": null,
            "left": null
          }
        },
        "7e18b4b5620d4a8b915178c0444052ce": {
          "model_module": "@jupyter-widgets/controls",
          "model_name": "DescriptionStyleModel",
          "model_module_version": "1.5.0",
          "state": {
            "_view_name": "StyleView",
            "_model_name": "DescriptionStyleModel",
            "description_width": "",
            "_view_module": "@jupyter-widgets/base",
            "_model_module_version": "1.5.0",
            "_view_count": null,
            "_view_module_version": "1.2.0",
            "_model_module": "@jupyter-widgets/controls"
          }
        },
        "d15e6571c3bc4d9db5feb3c01c313eeb": {
          "model_module": "@jupyter-widgets/base",
          "model_name": "LayoutModel",
          "model_module_version": "1.2.0",
          "state": {
            "_view_name": "LayoutView",
            "grid_template_rows": null,
            "right": null,
            "justify_content": null,
            "_view_module": "@jupyter-widgets/base",
            "overflow": null,
            "_model_module_version": "1.2.0",
            "_view_count": null,
            "flex_flow": null,
            "width": null,
            "min_width": null,
            "border": null,
            "align_items": null,
            "bottom": null,
            "_model_module": "@jupyter-widgets/base",
            "top": null,
            "grid_column": null,
            "overflow_y": null,
            "overflow_x": null,
            "grid_auto_flow": null,
            "grid_area": null,
            "grid_template_columns": null,
            "flex": null,
            "_model_name": "LayoutModel",
            "justify_items": null,
            "grid_row": null,
            "max_height": null,
            "align_content": null,
            "visibility": null,
            "align_self": null,
            "height": null,
            "min_height": null,
            "padding": null,
            "grid_auto_rows": null,
            "grid_gap": null,
            "max_width": null,
            "order": null,
            "_view_module_version": "1.2.0",
            "grid_template_areas": null,
            "object_position": null,
            "object_fit": null,
            "grid_auto_columns": null,
            "margin": null,
            "display": null,
            "left": null
          }
        },
        "ae38cfbec5b0494aac72ba3847b72696": {
          "model_module": "@jupyter-widgets/controls",
          "model_name": "HBoxModel",
          "model_module_version": "1.5.0",
          "state": {
            "_view_name": "HBoxView",
            "_dom_classes": [],
            "_model_name": "HBoxModel",
            "_view_module": "@jupyter-widgets/controls",
            "_model_module_version": "1.5.0",
            "_view_count": null,
            "_view_module_version": "1.5.0",
            "box_style": "",
            "layout": "IPY_MODEL_7c87116025ae4b2cad9a1af0f9b7ed2e",
            "_model_module": "@jupyter-widgets/controls",
            "children": [
              "IPY_MODEL_579f2bb651ba4a8cb90f2aa26707fea9",
              "IPY_MODEL_715e8a413fec414c990dfeea1da13f69",
              "IPY_MODEL_da1840eccf67455f87cc8dc4dc1baa5a"
            ]
          }
        },
        "7c87116025ae4b2cad9a1af0f9b7ed2e": {
          "model_module": "@jupyter-widgets/base",
          "model_name": "LayoutModel",
          "model_module_version": "1.2.0",
          "state": {
            "_view_name": "LayoutView",
            "grid_template_rows": null,
            "right": null,
            "justify_content": null,
            "_view_module": "@jupyter-widgets/base",
            "overflow": null,
            "_model_module_version": "1.2.0",
            "_view_count": null,
            "flex_flow": "row wrap",
            "width": "100%",
            "min_width": null,
            "border": null,
            "align_items": null,
            "bottom": null,
            "_model_module": "@jupyter-widgets/base",
            "top": null,
            "grid_column": null,
            "overflow_y": null,
            "overflow_x": null,
            "grid_auto_flow": null,
            "grid_area": null,
            "grid_template_columns": null,
            "flex": null,
            "_model_name": "LayoutModel",
            "justify_items": null,
            "grid_row": null,
            "max_height": null,
            "align_content": null,
            "visibility": null,
            "align_self": null,
            "height": null,
            "min_height": null,
            "padding": null,
            "grid_auto_rows": null,
            "grid_gap": null,
            "max_width": null,
            "order": null,
            "_view_module_version": "1.2.0",
            "grid_template_areas": null,
            "object_position": null,
            "object_fit": null,
            "grid_auto_columns": null,
            "margin": null,
            "display": "inline-flex",
            "left": null
          }
        },
        "579f2bb651ba4a8cb90f2aa26707fea9": {
          "model_module": "@jupyter-widgets/controls",
          "model_name": "HTMLModel",
          "model_module_version": "1.5.0",
          "state": {
            "_view_name": "HTMLView",
            "style": "IPY_MODEL_ca7102aba5d54ed2b4df0eddd8da349c",
            "_dom_classes": [],
            "description": "",
            "_model_name": "HTMLModel",
            "placeholder": "​",
            "_view_module": "@jupyter-widgets/controls",
            "_model_module_version": "1.5.0",
            "value": "Done! Use &#x27;show&#x27; commands to display/save.   ",
            "_view_count": null,
            "_view_module_version": "1.5.0",
            "description_tooltip": null,
            "_model_module": "@jupyter-widgets/controls",
            "layout": "IPY_MODEL_ac5424b9305740c4afebd0dfc3a1e51c"
          }
        },
        "715e8a413fec414c990dfeea1da13f69": {
          "model_module": "@jupyter-widgets/controls",
          "model_name": "FloatProgressModel",
          "model_module_version": "1.5.0",
          "state": {
            "_view_name": "ProgressView",
            "style": "IPY_MODEL_6377b2c3c8314c4eb6d9792e0226867f",
            "_dom_classes": [],
            "description": "",
            "_model_name": "FloatProgressModel",
            "bar_style": "success",
            "max": 1,
            "_view_module": "@jupyter-widgets/controls",
            "_model_module_version": "1.5.0",
            "value": 1,
            "_view_count": null,
            "_view_module_version": "1.5.0",
            "orientation": "horizontal",
            "min": 0,
            "description_tooltip": null,
            "_model_module": "@jupyter-widgets/controls",
            "layout": "IPY_MODEL_6586ad5176bf46a88f05aa7912f20fa6"
          }
        },
        "da1840eccf67455f87cc8dc4dc1baa5a": {
          "model_module": "@jupyter-widgets/controls",
          "model_name": "HTMLModel",
          "model_module_version": "1.5.0",
          "state": {
            "_view_name": "HTMLView",
            "style": "IPY_MODEL_ea61cef4275d4e7d8d6b5779b6f19de0",
            "_dom_classes": [],
            "description": "",
            "_model_name": "HTMLModel",
            "placeholder": "​",
            "_view_module": "@jupyter-widgets/controls",
            "_model_module_version": "1.5.0",
            "value": " [100%]   00:00 -&gt; (00:00 left)",
            "_view_count": null,
            "_view_module_version": "1.5.0",
            "description_tooltip": null,
            "_model_module": "@jupyter-widgets/controls",
            "layout": "IPY_MODEL_26d9e00075014c948132e32f02662503"
          }
        },
        "ca7102aba5d54ed2b4df0eddd8da349c": {
          "model_module": "@jupyter-widgets/controls",
          "model_name": "DescriptionStyleModel",
          "model_module_version": "1.5.0",
          "state": {
            "_view_name": "StyleView",
            "_model_name": "DescriptionStyleModel",
            "description_width": "",
            "_view_module": "@jupyter-widgets/base",
            "_model_module_version": "1.5.0",
            "_view_count": null,
            "_view_module_version": "1.2.0",
            "_model_module": "@jupyter-widgets/controls"
          }
        },
        "ac5424b9305740c4afebd0dfc3a1e51c": {
          "model_module": "@jupyter-widgets/base",
          "model_name": "LayoutModel",
          "model_module_version": "1.2.0",
          "state": {
            "_view_name": "LayoutView",
            "grid_template_rows": null,
            "right": null,
            "justify_content": null,
            "_view_module": "@jupyter-widgets/base",
            "overflow": null,
            "_model_module_version": "1.2.0",
            "_view_count": null,
            "flex_flow": null,
            "width": null,
            "min_width": null,
            "border": null,
            "align_items": null,
            "bottom": null,
            "_model_module": "@jupyter-widgets/base",
            "top": null,
            "grid_column": null,
            "overflow_y": null,
            "overflow_x": null,
            "grid_auto_flow": null,
            "grid_area": null,
            "grid_template_columns": null,
            "flex": null,
            "_model_name": "LayoutModel",
            "justify_items": null,
            "grid_row": null,
            "max_height": null,
            "align_content": null,
            "visibility": null,
            "align_self": null,
            "height": null,
            "min_height": null,
            "padding": null,
            "grid_auto_rows": null,
            "grid_gap": null,
            "max_width": null,
            "order": null,
            "_view_module_version": "1.2.0",
            "grid_template_areas": null,
            "object_position": null,
            "object_fit": null,
            "grid_auto_columns": null,
            "margin": null,
            "display": null,
            "left": null
          }
        },
        "6377b2c3c8314c4eb6d9792e0226867f": {
          "model_module": "@jupyter-widgets/controls",
          "model_name": "ProgressStyleModel",
          "model_module_version": "1.5.0",
          "state": {
            "_view_name": "StyleView",
            "_model_name": "ProgressStyleModel",
            "description_width": "",
            "_view_module": "@jupyter-widgets/base",
            "_model_module_version": "1.5.0",
            "_view_count": null,
            "_view_module_version": "1.2.0",
            "bar_color": null,
            "_model_module": "@jupyter-widgets/controls"
          }
        },
        "6586ad5176bf46a88f05aa7912f20fa6": {
          "model_module": "@jupyter-widgets/base",
          "model_name": "LayoutModel",
          "model_module_version": "1.2.0",
          "state": {
            "_view_name": "LayoutView",
            "grid_template_rows": null,
            "right": null,
            "justify_content": null,
            "_view_module": "@jupyter-widgets/base",
            "overflow": null,
            "_model_module_version": "1.2.0",
            "_view_count": null,
            "flex_flow": null,
            "width": null,
            "min_width": null,
            "border": null,
            "align_items": null,
            "bottom": null,
            "_model_module": "@jupyter-widgets/base",
            "top": null,
            "grid_column": null,
            "overflow_y": null,
            "overflow_x": null,
            "grid_auto_flow": null,
            "grid_area": null,
            "grid_template_columns": null,
            "flex": "2",
            "_model_name": "LayoutModel",
            "justify_items": null,
            "grid_row": null,
            "max_height": null,
            "align_content": null,
            "visibility": null,
            "align_self": null,
            "height": null,
            "min_height": null,
            "padding": null,
            "grid_auto_rows": null,
            "grid_gap": null,
            "max_width": null,
            "order": null,
            "_view_module_version": "1.2.0",
            "grid_template_areas": null,
            "object_position": null,
            "object_fit": null,
            "grid_auto_columns": null,
            "margin": null,
            "display": null,
            "left": null
          }
        },
        "ea61cef4275d4e7d8d6b5779b6f19de0": {
          "model_module": "@jupyter-widgets/controls",
          "model_name": "DescriptionStyleModel",
          "model_module_version": "1.5.0",
          "state": {
            "_view_name": "StyleView",
            "_model_name": "DescriptionStyleModel",
            "description_width": "",
            "_view_module": "@jupyter-widgets/base",
            "_model_module_version": "1.5.0",
            "_view_count": null,
            "_view_module_version": "1.2.0",
            "_model_module": "@jupyter-widgets/controls"
          }
        },
        "26d9e00075014c948132e32f02662503": {
          "model_module": "@jupyter-widgets/base",
          "model_name": "LayoutModel",
          "model_module_version": "1.2.0",
          "state": {
            "_view_name": "LayoutView",
            "grid_template_rows": null,
            "right": null,
            "justify_content": null,
            "_view_module": "@jupyter-widgets/base",
            "overflow": null,
            "_model_module_version": "1.2.0",
            "_view_count": null,
            "flex_flow": null,
            "width": null,
            "min_width": null,
            "border": null,
            "align_items": null,
            "bottom": null,
            "_model_module": "@jupyter-widgets/base",
            "top": null,
            "grid_column": null,
            "overflow_y": null,
            "overflow_x": null,
            "grid_auto_flow": null,
            "grid_area": null,
            "grid_template_columns": null,
            "flex": null,
            "_model_name": "LayoutModel",
            "justify_items": null,
            "grid_row": null,
            "max_height": null,
            "align_content": null,
            "visibility": null,
            "align_self": null,
            "height": null,
            "min_height": null,
            "padding": null,
            "grid_auto_rows": null,
            "grid_gap": null,
            "max_width": null,
            "order": null,
            "_view_module_version": "1.2.0",
            "grid_template_areas": null,
            "object_position": null,
            "object_fit": null,
            "grid_auto_columns": null,
            "margin": null,
            "display": null,
            "left": null
          }
        }
      }
    }
  },
  "cells": [
    {
      "cell_type": "markdown",
      "metadata": {
        "id": "view-in-github",
        "colab_type": "text"
      },
      "source": [
        "<a href=\"https://colab.research.google.com/github/Vishvesh-rao/House-Price-Prediction/blob/main/src.ipynb\" target=\"_parent\"><img src=\"https://colab.research.google.com/assets/colab-badge.svg\" alt=\"Open In Colab\"/></a>"
      ]
    },
    {
      "cell_type": "markdown",
      "metadata": {
        "id": "tgz0LVbzv_Vr"
      },
      "source": [
        "## Step 1 - Importing Libraries"
      ]
    },
    {
      "cell_type": "markdown",
      "metadata": {
        "id": "5vRUymcIwC42"
      },
      "source": [
        "The initial step is to import libraries that are important to preprocess the dataset"
      ]
    },
    {
      "cell_type": "code",
      "metadata": {
        "colab": {
          "base_uri": "https://localhost:8080/"
        },
        "id": "kwAtavjjN2Om",
        "outputId": "7913035c-c598-46d8-a8c5-d78af71f4e5a"
      },
      "source": [
        "!pip install sweetviz "
      ],
      "execution_count": null,
      "outputs": [
        {
          "output_type": "stream",
          "name": "stdout",
          "text": [
            "Collecting sweetviz\n",
            "  Downloading sweetviz-2.1.3-py3-none-any.whl (15.1 MB)\n",
            "\u001b[K     |████████████████████████████████| 15.1 MB 191 kB/s \n",
            "\u001b[?25hRequirement already satisfied: tqdm>=4.43.0 in /usr/local/lib/python3.7/dist-packages (from sweetviz) (4.62.3)\n",
            "Requirement already satisfied: jinja2>=2.11.1 in /usr/local/lib/python3.7/dist-packages (from sweetviz) (2.11.3)\n",
            "Requirement already satisfied: importlib-resources>=1.2.0 in /usr/local/lib/python3.7/dist-packages (from sweetviz) (5.4.0)\n",
            "Requirement already satisfied: matplotlib>=3.1.3 in /usr/local/lib/python3.7/dist-packages (from sweetviz) (3.2.2)\n",
            "Requirement already satisfied: numpy>=1.16.0 in /usr/local/lib/python3.7/dist-packages (from sweetviz) (1.19.5)\n",
            "Requirement already satisfied: scipy>=1.3.2 in /usr/local/lib/python3.7/dist-packages (from sweetviz) (1.4.1)\n",
            "Requirement already satisfied: pandas!=1.0.0,!=1.0.1,!=1.0.2,>=0.25.3 in /usr/local/lib/python3.7/dist-packages (from sweetviz) (1.1.5)\n",
            "Requirement already satisfied: zipp>=3.1.0 in /usr/local/lib/python3.7/dist-packages (from importlib-resources>=1.2.0->sweetviz) (3.6.0)\n",
            "Requirement already satisfied: MarkupSafe>=0.23 in /usr/local/lib/python3.7/dist-packages (from jinja2>=2.11.1->sweetviz) (2.0.1)\n",
            "Requirement already satisfied: cycler>=0.10 in /usr/local/lib/python3.7/dist-packages (from matplotlib>=3.1.3->sweetviz) (0.11.0)\n",
            "Requirement already satisfied: python-dateutil>=2.1 in /usr/local/lib/python3.7/dist-packages (from matplotlib>=3.1.3->sweetviz) (2.8.2)\n",
            "Requirement already satisfied: pyparsing!=2.0.4,!=2.1.2,!=2.1.6,>=2.0.1 in /usr/local/lib/python3.7/dist-packages (from matplotlib>=3.1.3->sweetviz) (3.0.6)\n",
            "Requirement already satisfied: kiwisolver>=1.0.1 in /usr/local/lib/python3.7/dist-packages (from matplotlib>=3.1.3->sweetviz) (1.3.2)\n",
            "Requirement already satisfied: pytz>=2017.2 in /usr/local/lib/python3.7/dist-packages (from pandas!=1.0.0,!=1.0.1,!=1.0.2,>=0.25.3->sweetviz) (2018.9)\n",
            "Requirement already satisfied: six>=1.5 in /usr/local/lib/python3.7/dist-packages (from python-dateutil>=2.1->matplotlib>=3.1.3->sweetviz) (1.15.0)\n",
            "Installing collected packages: sweetviz\n",
            "Successfully installed sweetviz-2.1.3\n"
          ]
        }
      ]
    },
    {
      "cell_type": "code",
      "metadata": {
        "id": "32Lv1Q4gu-0S"
      },
      "source": [
        "### Generic libraries\n",
        "from geopy.geocoders import Nominatim\n",
        "import matplotlib.pyplot as plt\n",
        "import pandas as pd\n",
        "import numpy as np\n",
        "import seaborn as sns\n",
        "import sweetviz as sv \n",
        "import pickle\n",
        "\n",
        "### Data set\n",
        "from sklearn.datasets import fetch_california_housing\n",
        "\n",
        "### sklearn modules\n",
        "from sklearn.linear_model import SGDClassifier\n",
        "from sklearn.model_selection import train_test_split\n",
        "from sklearn.metrics import r2_score\n",
        "from sklearn.metrics import mean_squared_error as MSE\n",
        "from sklearn.metrics import mean_absolute_error\n",
        "from sklearn.model_selection import KFold\n",
        "from sklearn.metrics import r2_score \n",
        "\n",
        "### ML algos\n",
        "from sklearn.ensemble import RandomForestRegressor\n",
        "from sklearn.neighbors import KNeighborsRegressor\n",
        "from sklearn.linear_model import LinearRegression"
      ],
      "execution_count": null,
      "outputs": []
    },
    {
      "cell_type": "markdown",
      "metadata": {
        "id": "NZi_FOZ-v6Q7"
      },
      "source": [
        "## Step 2 - Visualizing the data\n"
      ]
    },
    {
      "cell_type": "code",
      "metadata": {
        "id": "VQBnYc0ova8t"
      },
      "source": [
        "data = fetch_california_housing()\n"
      ],
      "execution_count": null,
      "outputs": []
    },
    {
      "cell_type": "code",
      "metadata": {
        "colab": {
          "base_uri": "https://localhost:8080/"
        },
        "id": "Iv_IATl_1sDi",
        "outputId": "b024143a-ecea-46b5-f1e0-9e11e8881dad"
      },
      "source": [
        "print(data.DESCR)\n"
      ],
      "execution_count": null,
      "outputs": [
        {
          "output_type": "stream",
          "name": "stdout",
          "text": [
            ".. _california_housing_dataset:\n",
            "\n",
            "California Housing dataset\n",
            "--------------------------\n",
            "\n",
            "**Data Set Characteristics:**\n",
            "\n",
            "    :Number of Instances: 20640\n",
            "\n",
            "    :Number of Attributes: 8 numeric, predictive attributes and the target\n",
            "\n",
            "    :Attribute Information:\n",
            "        - MedInc        median income in block group\n",
            "        - HouseAge      median house age in block group\n",
            "        - AveRooms      average number of rooms per household\n",
            "        - AveBedrms     average number of bedrooms per household\n",
            "        - Population    block group population\n",
            "        - AveOccup      average number of household members\n",
            "        - Latitude      block group latitude\n",
            "        - Longitude     block group longitude\n",
            "\n",
            "    :Missing Attribute Values: None\n",
            "\n",
            "This dataset was obtained from the StatLib repository.\n",
            "https://www.dcc.fc.up.pt/~ltorgo/Regression/cal_housing.html\n",
            "\n",
            "The target variable is the median house value for California districts,\n",
            "expressed in hundreds of thousands of dollars ($100,000).\n",
            "\n",
            "This dataset was derived from the 1990 U.S. census, using one row per census\n",
            "block group. A block group is the smallest geographical unit for which the U.S.\n",
            "Census Bureau publishes sample data (a block group typically has a population\n",
            "of 600 to 3,000 people).\n",
            "\n",
            "An household is a group of people residing within a home. Since the average\n",
            "number of rooms and bedrooms in this dataset are provided per household, these\n",
            "columns may take surpinsingly large values for block groups with few households\n",
            "and many empty houses, such as vacation resorts.\n",
            "\n",
            "It can be downloaded/loaded using the\n",
            ":func:`sklearn.datasets.fetch_california_housing` function.\n",
            "\n",
            ".. topic:: References\n",
            "\n",
            "    - Pace, R. Kelley and Ronald Barry, Sparse Spatial Autoregressions,\n",
            "      Statistics and Probability Letters, 33 (1997) 291-297\n",
            "\n"
          ]
        }
      ]
    },
    {
      "cell_type": "code",
      "metadata": {
        "colab": {
          "base_uri": "https://localhost:8080/"
        },
        "id": "Ac9GUvaw2Nht",
        "outputId": "d9d19baf-a44f-4131-cedc-5e5b7cfa2e4a"
      },
      "source": [
        "#independent data\n",
        "\n",
        "df = pd.DataFrame(data = data.data, columns = data.feature_names)\n",
        "df.shape\n",
        "\n",
        "\n"
      ],
      "execution_count": null,
      "outputs": [
        {
          "output_type": "execute_result",
          "data": {
            "text/plain": [
              "(20640, 8)"
            ]
          },
          "metadata": {},
          "execution_count": 5
        }
      ]
    },
    {
      "cell_type": "code",
      "metadata": {
        "colab": {
          "base_uri": "https://localhost:8080/",
          "height": 206
        },
        "id": "vLFkEI6F4BL1",
        "outputId": "c0e44c2c-ae9e-425d-ffcb-59355c933c08"
      },
      "source": [
        "df.head()\n",
        "\n"
      ],
      "execution_count": null,
      "outputs": [
        {
          "output_type": "execute_result",
          "data": {
            "text/html": [
              "<div>\n",
              "<style scoped>\n",
              "    .dataframe tbody tr th:only-of-type {\n",
              "        vertical-align: middle;\n",
              "    }\n",
              "\n",
              "    .dataframe tbody tr th {\n",
              "        vertical-align: top;\n",
              "    }\n",
              "\n",
              "    .dataframe thead th {\n",
              "        text-align: right;\n",
              "    }\n",
              "</style>\n",
              "<table border=\"1\" class=\"dataframe\">\n",
              "  <thead>\n",
              "    <tr style=\"text-align: right;\">\n",
              "      <th></th>\n",
              "      <th>MedInc</th>\n",
              "      <th>HouseAge</th>\n",
              "      <th>AveRooms</th>\n",
              "      <th>AveBedrms</th>\n",
              "      <th>Population</th>\n",
              "      <th>AveOccup</th>\n",
              "      <th>Latitude</th>\n",
              "      <th>Longitude</th>\n",
              "    </tr>\n",
              "  </thead>\n",
              "  <tbody>\n",
              "    <tr>\n",
              "      <th>0</th>\n",
              "      <td>8.3252</td>\n",
              "      <td>41.0</td>\n",
              "      <td>6.984127</td>\n",
              "      <td>1.023810</td>\n",
              "      <td>322.0</td>\n",
              "      <td>2.555556</td>\n",
              "      <td>37.88</td>\n",
              "      <td>-122.23</td>\n",
              "    </tr>\n",
              "    <tr>\n",
              "      <th>1</th>\n",
              "      <td>8.3014</td>\n",
              "      <td>21.0</td>\n",
              "      <td>6.238137</td>\n",
              "      <td>0.971880</td>\n",
              "      <td>2401.0</td>\n",
              "      <td>2.109842</td>\n",
              "      <td>37.86</td>\n",
              "      <td>-122.22</td>\n",
              "    </tr>\n",
              "    <tr>\n",
              "      <th>2</th>\n",
              "      <td>7.2574</td>\n",
              "      <td>52.0</td>\n",
              "      <td>8.288136</td>\n",
              "      <td>1.073446</td>\n",
              "      <td>496.0</td>\n",
              "      <td>2.802260</td>\n",
              "      <td>37.85</td>\n",
              "      <td>-122.24</td>\n",
              "    </tr>\n",
              "    <tr>\n",
              "      <th>3</th>\n",
              "      <td>5.6431</td>\n",
              "      <td>52.0</td>\n",
              "      <td>5.817352</td>\n",
              "      <td>1.073059</td>\n",
              "      <td>558.0</td>\n",
              "      <td>2.547945</td>\n",
              "      <td>37.85</td>\n",
              "      <td>-122.25</td>\n",
              "    </tr>\n",
              "    <tr>\n",
              "      <th>4</th>\n",
              "      <td>3.8462</td>\n",
              "      <td>52.0</td>\n",
              "      <td>6.281853</td>\n",
              "      <td>1.081081</td>\n",
              "      <td>565.0</td>\n",
              "      <td>2.181467</td>\n",
              "      <td>37.85</td>\n",
              "      <td>-122.25</td>\n",
              "    </tr>\n",
              "  </tbody>\n",
              "</table>\n",
              "</div>"
            ],
            "text/plain": [
              "   MedInc  HouseAge  AveRooms  ...  AveOccup  Latitude  Longitude\n",
              "0  8.3252      41.0  6.984127  ...  2.555556     37.88    -122.23\n",
              "1  8.3014      21.0  6.238137  ...  2.109842     37.86    -122.22\n",
              "2  7.2574      52.0  8.288136  ...  2.802260     37.85    -122.24\n",
              "3  5.6431      52.0  5.817352  ...  2.547945     37.85    -122.25\n",
              "4  3.8462      52.0  6.281853  ...  2.181467     37.85    -122.25\n",
              "\n",
              "[5 rows x 8 columns]"
            ]
          },
          "metadata": {},
          "execution_count": 6
        }
      ]
    },
    {
      "cell_type": "code",
      "metadata": {
        "colab": {
          "base_uri": "https://localhost:8080/",
          "height": 312
        },
        "id": "L3fyFhha9G2-",
        "outputId": "7f115043-6329-4aa8-cfe3-970d155c573b"
      },
      "source": [
        "#dependent data\n",
        "\n",
        "df[\"House Price\"] = data.target\n",
        "\n",
        "plt.xlabel('Attribute Values')\n",
        "# naming the y axis\n",
        "plt.ylabel('Frequency')\n",
        "plt.title('HouseAge')\n",
        "\n",
        "df['HouseAge'].value_counts().plot()\n"
      ],
      "execution_count": null,
      "outputs": [
        {
          "output_type": "execute_result",
          "data": {
            "text/plain": [
              "<matplotlib.axes._subplots.AxesSubplot at 0x7f2865266e50>"
            ]
          },
          "metadata": {},
          "execution_count": 7
        },
        {
          "output_type": "display_data",
          "data": {
            "image/png": "[encoded data removed]",
            "text/plain": [
              "<Figure size 432x288 with 1 Axes>"
            ]
          },
          "metadata": {
            "needs_background": "light"
          }
        }
      ]
    },
    {
      "cell_type": "markdown",
      "metadata": {
        "id": "V_byRoQJAMOd"
      },
      "source": [
        "#EXPLORATORY DATA ANALYSIS"
      ]
    },
    {
      "cell_type": "code",
      "metadata": {
        "colab": {
          "base_uri": "https://localhost:8080/",
          "height": 66,
          "referenced_widgets": [
            "9b0c076509db43a3a8dcce598c59cc99",
            "4b74922f884b4159ae56e5218ded321f",
            "4450fba8d0b2442e865261f7ba900a2b",
            "3f177da6da8641d49e8d2cc664073e07",
            "33036d8b210e480b8d46dd566d9f0c62",
            "d7d6659066ac40fb823b2698a7c90b63",
            "6b97b67e09264ef3b05cc11242f56da9",
            "e9f173047a8548e99b0a8e529ad1a042",
            "bf73c09fd6d94349a150fe359f0c78f2",
            "7e18b4b5620d4a8b915178c0444052ce",
            "d15e6571c3bc4d9db5feb3c01c313eeb"
          ]
        },
        "id": "w64VgtC1AXKY",
        "outputId": "0eec9b4f-f281-4d1d-eba6-1281338b1598"
      },
      "source": [
        "\n",
        "report = sv.analyze(df)\n",
        "\n",
        "report.show_html(\"./report.html\")"
      ],
      "execution_count": null,
      "outputs": [
        {
          "output_type": "display_data",
          "data": {
            "application/vnd.jupyter.widget-view+json": {
              "model_id": "9b0c076509db43a3a8dcce598c59cc99",
              "version_minor": 0,
              "version_major": 2
            },
            "text/plain": [
              "                                             |          | [  0%]   00:00 -> (? left)"
            ]
          },
          "metadata": {}
        },
        {
          "output_type": "stream",
          "name": "stdout",
          "text": [
            "Report ./report.html was generated! NOTEBOOK/COLAB USERS: the web browser MAY not pop up, regardless, the report IS saved in your notebook/colab files.\n"
          ]
        }
      ]
    },
    {
      "cell_type": "code",
      "metadata": {
        "id": "AYvjdi89IWhc"
      },
      "source": [
        "## Feature Engineering\n",
        " \n",
        "geolocator = Nominatim(user_agent = \"geoapiExcercises\", timeout=10)\n"
      ],
      "execution_count": null,
      "outputs": []
    },
    {
      "cell_type": "code",
      "metadata": {
        "id": "GaMH81qRSJfs"
      },
      "source": [
        "def location(cords):\n",
        "  \n",
        "  Lat = str(cords[0])\n",
        "  Long = str(cords[1])\n",
        "\n",
        "  loc = geolocator.reverse(Lat + \",\" + Long).raw[\"address\"]\n",
        "\n",
        "  if loc.get(\"road\") is None:\n",
        "    loc[\"road\"] = None\n",
        "\n",
        "  if loc.get(\"county\") is None:\n",
        "    loc[\"county\"] = None\n",
        "  \n",
        "  loc_update[\"county\"].append(loc[\"county\"])\n",
        "  loc_update[\"road\"].append(loc[\"road\"])\n",
        "\n"
      ],
      "execution_count": null,
      "outputs": []
    },
    {
      "cell_type": "code",
      "metadata": {
        "id": "4godNJgsZfHA"
      },
      "source": [
        "# loc_update = {\"county\":[],\n",
        "#               \"road\":[],\n",
        "#               \"neighbourhood\":[]}\n",
        "\n",
        "# for i,cords in enumerate(df.iloc[:,6:-1].values):\n",
        "\n",
        "#   if(i<10554):\n",
        "#     location(cords)\n",
        "#     pickle.dump(loc_update, open('loc_update.pickle','wb'))\n",
        "\n",
        "#     if(i%100 == 0):\n",
        "#       print(i)\n",
        "  "
      ],
      "execution_count": null,
      "outputs": []
    },
    {
      "cell_type": "code",
      "metadata": {
        "id": "HsOqM9BkX6e6",
        "colab": {
          "base_uri": "https://localhost:8080/"
        },
        "outputId": "9fa90def-c62a-407f-aad9-908a852527b8"
      },
      "source": [
        "loc_update = pickle.load(open(\"/content/loc_update.pickle\",\"rb\"))\n",
        "loc_update.keys()\n",
        "loc = pd.DataFrame(loc_update)\n",
        "loc.info()"
      ],
      "execution_count": null,
      "outputs": [
        {
          "output_type": "stream",
          "name": "stdout",
          "text": [
            "<class 'pandas.core.frame.DataFrame'>\n",
            "RangeIndex: 20640 entries, 0 to 20639\n",
            "Data columns (total 2 columns):\n",
            " #   Column  Non-Null Count  Dtype \n",
            "---  ------  --------------  ----- \n",
            " 0   road    19507 non-null  object\n",
            " 1   county  15368 non-null  object\n",
            "dtypes: object(2)\n",
            "memory usage: 322.6+ KB\n"
          ]
        }
      ]
    },
    {
      "cell_type": "code",
      "metadata": {
        "id": "Mm9HXw9SZNCM",
        "colab": {
          "base_uri": "https://localhost:8080/",
          "height": 363
        },
        "outputId": "62ad8f84-94c8-4e41-dc4a-9bd5938b6f9f"
      },
      "source": [
        "## Adding the new feature to our dataframe\n",
        "\n",
        "for i in loc_update.keys():\n",
        "  df[i] = loc_update[i]\n",
        "\n",
        "df = df.sample(axis=0, frac=1)\n",
        "\n",
        "df.head(10)"
      ],
      "execution_count": null,
      "outputs": [
        {
          "output_type": "execute_result",
          "data": {
            "text/html": [
              "<div>\n",
              "<style scoped>\n",
              "    .dataframe tbody tr th:only-of-type {\n",
              "        vertical-align: middle;\n",
              "    }\n",
              "\n",
              "    .dataframe tbody tr th {\n",
              "        vertical-align: top;\n",
              "    }\n",
              "\n",
              "    .dataframe thead th {\n",
              "        text-align: right;\n",
              "    }\n",
              "</style>\n",
              "<table border=\"1\" class=\"dataframe\">\n",
              "  <thead>\n",
              "    <tr style=\"text-align: right;\">\n",
              "      <th></th>\n",
              "      <th>MedInc</th>\n",
              "      <th>HouseAge</th>\n",
              "      <th>AveRooms</th>\n",
              "      <th>AveBedrms</th>\n",
              "      <th>Population</th>\n",
              "      <th>AveOccup</th>\n",
              "      <th>Latitude</th>\n",
              "      <th>Longitude</th>\n",
              "      <th>House Price</th>\n",
              "      <th>road</th>\n",
              "      <th>county</th>\n",
              "    </tr>\n",
              "  </thead>\n",
              "  <tbody>\n",
              "    <tr>\n",
              "      <th>18059</th>\n",
              "      <td>10.2666</td>\n",
              "      <td>24.0</td>\n",
              "      <td>8.063545</td>\n",
              "      <td>1.000000</td>\n",
              "      <td>847.0</td>\n",
              "      <td>2.832776</td>\n",
              "      <td>37.26</td>\n",
              "      <td>-122.02</td>\n",
              "      <td>5.00001</td>\n",
              "      <td>Riverdale Drive</td>\n",
              "      <td>Santa Clara County</td>\n",
              "    </tr>\n",
              "    <tr>\n",
              "      <th>7570</th>\n",
              "      <td>4.3646</td>\n",
              "      <td>42.0</td>\n",
              "      <td>5.336170</td>\n",
              "      <td>0.957447</td>\n",
              "      <td>929.0</td>\n",
              "      <td>3.953191</td>\n",
              "      <td>33.89</td>\n",
              "      <td>-118.21</td>\n",
              "      <td>1.16200</td>\n",
              "      <td>South Sloan Avenue</td>\n",
              "      <td>None</td>\n",
              "    </tr>\n",
              "    <tr>\n",
              "      <th>20263</th>\n",
              "      <td>2.9185</td>\n",
              "      <td>27.0</td>\n",
              "      <td>4.408879</td>\n",
              "      <td>1.137850</td>\n",
              "      <td>1339.0</td>\n",
              "      <td>3.128505</td>\n",
              "      <td>34.21</td>\n",
              "      <td>-119.19</td>\n",
              "      <td>2.24500</td>\n",
              "      <td>West Roderick Avenue</td>\n",
              "      <td>Ventura County</td>\n",
              "    </tr>\n",
              "    <tr>\n",
              "      <th>6786</th>\n",
              "      <td>3.1080</td>\n",
              "      <td>27.0</td>\n",
              "      <td>4.365488</td>\n",
              "      <td>1.085745</td>\n",
              "      <td>2411.0</td>\n",
              "      <td>2.584137</td>\n",
              "      <td>34.10</td>\n",
              "      <td>-118.14</td>\n",
              "      <td>2.31000</td>\n",
              "      <td>Electric Avenue</td>\n",
              "      <td>None</td>\n",
              "    </tr>\n",
              "    <tr>\n",
              "      <th>13897</th>\n",
              "      <td>2.1820</td>\n",
              "      <td>15.0</td>\n",
              "      <td>6.047482</td>\n",
              "      <td>1.389928</td>\n",
              "      <td>1756.0</td>\n",
              "      <td>2.526619</td>\n",
              "      <td>34.18</td>\n",
              "      <td>-116.29</td>\n",
              "      <td>0.60800</td>\n",
              "      <td>Verbena Road</td>\n",
              "      <td>San Bernardino County</td>\n",
              "    </tr>\n",
              "    <tr>\n",
              "      <th>16229</th>\n",
              "      <td>3.5703</td>\n",
              "      <td>43.0</td>\n",
              "      <td>4.721875</td>\n",
              "      <td>0.912500</td>\n",
              "      <td>721.0</td>\n",
              "      <td>2.253125</td>\n",
              "      <td>37.97</td>\n",
              "      <td>-121.33</td>\n",
              "      <td>0.87400</td>\n",
              "      <td>Grange Avenue</td>\n",
              "      <td>San Joaquin County</td>\n",
              "    </tr>\n",
              "    <tr>\n",
              "      <th>4543</th>\n",
              "      <td>2.6875</td>\n",
              "      <td>45.0</td>\n",
              "      <td>4.212766</td>\n",
              "      <td>1.079787</td>\n",
              "      <td>872.0</td>\n",
              "      <td>4.638298</td>\n",
              "      <td>34.02</td>\n",
              "      <td>-118.21</td>\n",
              "      <td>1.29700</td>\n",
              "      <td>East Olympic Boulevard</td>\n",
              "      <td>None</td>\n",
              "    </tr>\n",
              "    <tr>\n",
              "      <th>9302</th>\n",
              "      <td>6.4978</td>\n",
              "      <td>27.0</td>\n",
              "      <td>6.718329</td>\n",
              "      <td>0.958221</td>\n",
              "      <td>1928.0</td>\n",
              "      <td>2.598383</td>\n",
              "      <td>38.02</td>\n",
              "      <td>-122.55</td>\n",
              "      <td>3.61500</td>\n",
              "      <td>Montevideo Way</td>\n",
              "      <td>Marin County</td>\n",
              "    </tr>\n",
              "    <tr>\n",
              "      <th>9384</th>\n",
              "      <td>6.0238</td>\n",
              "      <td>23.0</td>\n",
              "      <td>4.910714</td>\n",
              "      <td>1.199405</td>\n",
              "      <td>541.0</td>\n",
              "      <td>1.610119</td>\n",
              "      <td>37.89</td>\n",
              "      <td>-122.49</td>\n",
              "      <td>5.00001</td>\n",
              "      <td>Greenwood Beach Road</td>\n",
              "      <td>Marin County</td>\n",
              "    </tr>\n",
              "    <tr>\n",
              "      <th>11472</th>\n",
              "      <td>4.0121</td>\n",
              "      <td>19.0</td>\n",
              "      <td>4.951596</td>\n",
              "      <td>1.059732</td>\n",
              "      <td>2422.0</td>\n",
              "      <td>2.494336</td>\n",
              "      <td>33.71</td>\n",
              "      <td>-118.00</td>\n",
              "      <td>2.79700</td>\n",
              "      <td>Main Street</td>\n",
              "      <td>Orange County</td>\n",
              "    </tr>\n",
              "  </tbody>\n",
              "</table>\n",
              "</div>"
            ],
            "text/plain": [
              "        MedInc  HouseAge  ...                    road                 county\n",
              "18059  10.2666      24.0  ...         Riverdale Drive     Santa Clara County\n",
              "7570    4.3646      42.0  ...      South Sloan Avenue                   None\n",
              "20263   2.9185      27.0  ...    West Roderick Avenue         Ventura County\n",
              "6786    3.1080      27.0  ...         Electric Avenue                   None\n",
              "13897   2.1820      15.0  ...            Verbena Road  San Bernardino County\n",
              "16229   3.5703      43.0  ...           Grange Avenue     San Joaquin County\n",
              "4543    2.6875      45.0  ...  East Olympic Boulevard                   None\n",
              "9302    6.4978      27.0  ...          Montevideo Way           Marin County\n",
              "9384    6.0238      23.0  ...    Greenwood Beach Road           Marin County\n",
              "11472   4.0121      19.0  ...             Main Street          Orange County\n",
              "\n",
              "[10 rows x 11 columns]"
            ]
          },
          "metadata": {},
          "execution_count": 9
        }
      ]
    },
    {
      "cell_type": "code",
      "metadata": {
        "id": "FGrX4Av5ai_P",
        "colab": {
          "base_uri": "https://localhost:8080/"
        },
        "outputId": "8f4f6920-998f-4e1e-cbba-8ca6b0cdccf0"
      },
      "source": [
        "## Dropping lat and long and the Neighbourhood columns\n",
        "\n",
        "df1 = df.drop(labels = [\"Latitude\", \"Longitude\"], axis=1)\n",
        "df1.info()"
      ],
      "execution_count": null,
      "outputs": [
        {
          "output_type": "stream",
          "name": "stdout",
          "text": [
            "<class 'pandas.core.frame.DataFrame'>\n",
            "Int64Index: 20640 entries, 18059 to 6729\n",
            "Data columns (total 9 columns):\n",
            " #   Column       Non-Null Count  Dtype  \n",
            "---  ------       --------------  -----  \n",
            " 0   MedInc       20640 non-null  float64\n",
            " 1   HouseAge     20640 non-null  float64\n",
            " 2   AveRooms     20640 non-null  float64\n",
            " 3   AveBedrms    20640 non-null  float64\n",
            " 4   Population   20640 non-null  float64\n",
            " 5   AveOccup     20640 non-null  float64\n",
            " 6   House Price  20640 non-null  float64\n",
            " 7   road         19507 non-null  object \n",
            " 8   county       15368 non-null  object \n",
            "dtypes: float64(7), object(2)\n",
            "memory usage: 1.6+ MB\n"
          ]
        }
      ]
    },
    {
      "cell_type": "markdown",
      "metadata": {
        "id": "lYeS6X34ba1T"
      },
      "source": [
        "# Using Classification Algorithm To Fill The Missing Categorical values"
      ]
    },
    {
      "cell_type": "markdown",
      "metadata": {
        "id": "NWMLibfTXA0n"
      },
      "source": [
        "## Predicting missing Road values"
      ]
    },
    {
      "cell_type": "code",
      "metadata": {
        "id": "MM7UgFlDbkjw"
      },
      "source": [
        "## applying classification algorithm [ logistic regression ] to find missing road values\n",
        "\n",
        "missing_idx = []\n",
        "\n",
        "for i in range(df1.shape[0]):\n",
        "\n",
        "  if df1[\"road\"][i] is None:\n",
        "    missing_idx.append(i)\n",
        "\n",
        "## Independent Parameters\n",
        "missing_road_X_train = np.array([ [df1[\"MedInc\"][i], df1[\"AveRooms\"][i], df1[\"AveBedrms\"][i] ] for i in range(df1.shape[0]) if i not in missing_idx ])\n",
        "\n",
        "## Dependend Parameters\n",
        "missing_road_Y_train = np.array([  df1[\"road\"][i] for i in range(df1.shape[0]) if i not in missing_idx ])\n",
        "\n",
        "missing_road_X_test = np.array([ [df1[\"MedInc\"][i], df1[\"AveRooms\"][i], df1[\"AveBedrms\"][i] ] for i in range(df1.shape[0]) if i not in missing_idx ])\n"
      ],
      "execution_count": null,
      "outputs": []
    },
    {
      "cell_type": "code",
      "metadata": {
        "id": "e5STByrTs8FF"
      },
      "source": [
        "# ## Model Initialisation\n",
        "\n",
        "model_1 = SGDClassifier()\n",
        "\n",
        "# ## Model Training\n",
        "model_1.fit(missing_road_X_train, missing_road_Y_train)\n",
        "\n",
        "missing_road_Y_pred = model_1.predict(missing_road_X_test)"
      ],
      "execution_count": null,
      "outputs": []
    },
    {
      "cell_type": "code",
      "metadata": {
        "colab": {
          "base_uri": "https://localhost:8080/",
          "height": 35
        },
        "id": "KjoBh1fou71T",
        "outputId": "67a5268f-350c-4867-92b6-e3132dcf11b7"
      },
      "source": [
        "missing_road_Y_pred[90]\n",
        "\n"
      ],
      "execution_count": null,
      "outputs": [
        {
          "output_type": "execute_result",
          "data": {
            "application/vnd.google.colaboratory.intrinsic+json": {
              "type": "string"
            },
            "text/plain": [
              "'Studebaker Road'"
            ]
          },
          "metadata": {},
          "execution_count": 13
        }
      ]
    },
    {
      "cell_type": "code",
      "metadata": {
        "id": "27h7jh2tzCNa"
      },
      "source": [
        "## adding the model back to dataframe\n",
        "from sklearn.preprocessing import LabelEncoder\n",
        "pd.options.mode.chained_assignment = None  # default='warn'\n",
        "\n",
        "for n,i in enumerate(missing_idx):\n",
        "  df1[\"road\"][i] = missing_road_Y_pred[n]\n",
        "\n",
        "le = LabelEncoder()\n",
        "\n",
        "df1[\"road\"] =  le.fit_transform(df1[\"road\"] )"
      ],
      "execution_count": null,
      "outputs": []
    },
    {
      "cell_type": "markdown",
      "metadata": {
        "id": "mJnN3xbEYEdB"
      },
      "source": [
        "## Predicting missing County values"
      ]
    },
    {
      "cell_type": "code",
      "metadata": {
        "id": "H8BjxGDvzlTH"
      },
      "source": [
        "## applying classification algorithm [ logistic regression ] to find missing county values\n",
        "\n",
        "missing_idx = []\n",
        "\n",
        "for i in range(df1.shape[0]):\n",
        "\n",
        "  if df1[\"county\"][i] is None:\n",
        "    missing_idx.append(i)\n",
        "\n",
        "## Independent Parameters\n",
        "missing_county_X_train = np.array([ [df1[\"MedInc\"][i], df1[\"AveRooms\"][i], df1[\"AveBedrms\"][i] ] for i in range(df1.shape[0]) if i not in missing_idx ])\n",
        "\n",
        "## Dependend Parameters\n",
        "missing_county_Y_train = np.array([  df1[\"county\"][i] for i in range(df1.shape[0]) if i not in missing_idx ])\n",
        "\n",
        "missing_county_X_test = np.array([ [df1[\"MedInc\"][i], df1[\"AveRooms\"][i], df1[\"AveBedrms\"][i] ] for i in range(df1.shape[0]) if i not in missing_idx ])\n"
      ],
      "execution_count": null,
      "outputs": []
    },
    {
      "cell_type": "code",
      "metadata": {
        "id": "H7e-dtYnVJJY"
      },
      "source": [
        "## Model Initialisation\n",
        "\n",
        "model_1 = SGDClassifier()\n",
        "\n",
        "## Model Training\n",
        "model_1.fit(missing_county_X_train, missing_county_Y_train)\n",
        "\n",
        "missing_county_Y_pred = model_1.predict(missing_county_X_test)"
      ],
      "execution_count": null,
      "outputs": []
    },
    {
      "cell_type": "code",
      "metadata": {
        "id": "u3NsR6RpVNHa"
      },
      "source": [
        "## adding the model back to dataframe\n",
        "from sklearn.preprocessing import LabelEncoder\n",
        "\n",
        "for n,i in enumerate(missing_idx):\n",
        "  df1[\"county\"][i] = missing_county_Y_pred[n]\n",
        "\n",
        "le = LabelEncoder()\n",
        "\n",
        "df1[\"county\"] =  le.fit_transform(df1[\"county\"] )"
      ],
      "execution_count": null,
      "outputs": []
    },
    {
      "cell_type": "code",
      "metadata": {
        "colab": {
          "base_uri": "https://localhost:8080/",
          "height": 66,
          "referenced_widgets": [
            "ae38cfbec5b0494aac72ba3847b72696",
            "7c87116025ae4b2cad9a1af0f9b7ed2e",
            "579f2bb651ba4a8cb90f2aa26707fea9",
            "715e8a413fec414c990dfeea1da13f69",
            "da1840eccf67455f87cc8dc4dc1baa5a",
            "ca7102aba5d54ed2b4df0eddd8da349c",
            "ac5424b9305740c4afebd0dfc3a1e51c",
            "6377b2c3c8314c4eb6d9792e0226867f",
            "6586ad5176bf46a88f05aa7912f20fa6",
            "ea61cef4275d4e7d8d6b5779b6f19de0",
            "26d9e00075014c948132e32f02662503"
          ]
        },
        "id": "DI-f4KimWVhm",
        "outputId": "805f9ba9-47ee-4df4-ff88-578402829ed7"
      },
      "source": [
        "df4 = df1.drop(labels = [\"HouseAge\"], axis=1)\n",
        "\n",
        "report = sv.analyze(df4)\n",
        "\n",
        "report.show_html(\"./report.html\")"
      ],
      "execution_count": null,
      "outputs": [
        {
          "output_type": "display_data",
          "data": {
            "application/vnd.jupyter.widget-view+json": {
              "model_id": "ae38cfbec5b0494aac72ba3847b72696",
              "version_minor": 0,
              "version_major": 2
            },
            "text/plain": [
              "                                             |          | [  0%]   00:00 -> (? left)"
            ]
          },
          "metadata": {}
        },
        {
          "output_type": "stream",
          "name": "stdout",
          "text": [
            "Report ./report.html was generated! NOTEBOOK/COLAB USERS: the web browser MAY not pop up, regardless, the report IS saved in your notebook/colab files.\n"
          ]
        }
      ]
    },
    {
      "cell_type": "markdown",
      "metadata": {
        "id": "DM-CB3VKtEoE"
      },
      "source": [
        "# Normalizing Values"
      ]
    },
    {
      "cell_type": "code",
      "metadata": {
        "colab": {
          "base_uri": "https://localhost:8080/",
          "height": 206
        },
        "id": "MQpHtwO2O-_U",
        "outputId": "4e379fce-1988-4bae-91e9-732376a6300a"
      },
      "source": [
        "x = df1.iloc[:,1:]\n",
        "\n",
        "# Normalize values\n",
        "df1.iloc[:,1:] = (x-x.min())/ (x.max() - x.min())\n",
        "\n",
        "df1.head()"
      ],
      "execution_count": null,
      "outputs": [
        {
          "output_type": "execute_result",
          "data": {
            "text/html": [
              "<div>\n",
              "<style scoped>\n",
              "    .dataframe tbody tr th:only-of-type {\n",
              "        vertical-align: middle;\n",
              "    }\n",
              "\n",
              "    .dataframe tbody tr th {\n",
              "        vertical-align: top;\n",
              "    }\n",
              "\n",
              "    .dataframe thead th {\n",
              "        text-align: right;\n",
              "    }\n",
              "</style>\n",
              "<table border=\"1\" class=\"dataframe\">\n",
              "  <thead>\n",
              "    <tr style=\"text-align: right;\">\n",
              "      <th></th>\n",
              "      <th>MedInc</th>\n",
              "      <th>HouseAge</th>\n",
              "      <th>AveRooms</th>\n",
              "      <th>AveBedrms</th>\n",
              "      <th>Population</th>\n",
              "      <th>AveOccup</th>\n",
              "      <th>House Price</th>\n",
              "      <th>road</th>\n",
              "      <th>county</th>\n",
              "    </tr>\n",
              "  </thead>\n",
              "  <tbody>\n",
              "    <tr>\n",
              "      <th>18059</th>\n",
              "      <td>10.2666</td>\n",
              "      <td>0.450980</td>\n",
              "      <td>0.051164</td>\n",
              "      <td>0.019763</td>\n",
              "      <td>0.023655</td>\n",
              "      <td>0.001723</td>\n",
              "      <td>1.000000</td>\n",
              "      <td>0.723636</td>\n",
              "      <td>0.750000</td>\n",
              "    </tr>\n",
              "    <tr>\n",
              "      <th>7570</th>\n",
              "      <td>4.3646</td>\n",
              "      <td>0.803922</td>\n",
              "      <td>0.031830</td>\n",
              "      <td>0.018501</td>\n",
              "      <td>0.025954</td>\n",
              "      <td>0.002624</td>\n",
              "      <td>0.208661</td>\n",
              "      <td>0.829421</td>\n",
              "      <td>0.966667</td>\n",
              "    </tr>\n",
              "    <tr>\n",
              "      <th>20263</th>\n",
              "      <td>2.9185</td>\n",
              "      <td>0.509804</td>\n",
              "      <td>0.025256</td>\n",
              "      <td>0.023849</td>\n",
              "      <td>0.037445</td>\n",
              "      <td>0.001960</td>\n",
              "      <td>0.431959</td>\n",
              "      <td>0.964738</td>\n",
              "      <td>0.966667</td>\n",
              "    </tr>\n",
              "    <tr>\n",
              "      <th>6786</th>\n",
              "      <td>3.1080</td>\n",
              "      <td>0.509804</td>\n",
              "      <td>0.024949</td>\n",
              "      <td>0.022305</td>\n",
              "      <td>0.067491</td>\n",
              "      <td>0.001522</td>\n",
              "      <td>0.445361</td>\n",
              "      <td>0.308650</td>\n",
              "      <td>0.966667</td>\n",
              "    </tr>\n",
              "    <tr>\n",
              "      <th>13897</th>\n",
              "      <td>2.1820</td>\n",
              "      <td>0.274510</td>\n",
              "      <td>0.036872</td>\n",
              "      <td>0.031322</td>\n",
              "      <td>0.049133</td>\n",
              "      <td>0.001476</td>\n",
              "      <td>0.094435</td>\n",
              "      <td>0.906556</td>\n",
              "      <td>0.633333</td>\n",
              "    </tr>\n",
              "  </tbody>\n",
              "</table>\n",
              "</div>"
            ],
            "text/plain": [
              "        MedInc  HouseAge  AveRooms  ...  House Price      road    county\n",
              "18059  10.2666  0.450980  0.051164  ...     1.000000  0.723636  0.750000\n",
              "7570    4.3646  0.803922  0.031830  ...     0.208661  0.829421  0.966667\n",
              "20263   2.9185  0.509804  0.025256  ...     0.431959  0.964738  0.966667\n",
              "6786    3.1080  0.509804  0.024949  ...     0.445361  0.308650  0.966667\n",
              "13897   2.1820  0.274510  0.036872  ...     0.094435  0.906556  0.633333\n",
              "\n",
              "[5 rows x 9 columns]"
            ]
          },
          "metadata": {},
          "execution_count": 19
        }
      ]
    },
    {
      "cell_type": "code",
      "metadata": {
        "id": "Rdo4TcQFIcik"
      },
      "source": [
        "# Dependent Values\n",
        "\n",
        "Y = df1.iloc[:,-3].values\n",
        "df2 = df1.drop(labels = [\"House Price\"], axis=1)\n",
        "\n",
        "X = df2.iloc[:,:].values"
      ],
      "execution_count": null,
      "outputs": []
    },
    {
      "cell_type": "code",
      "metadata": {
        "colab": {
          "base_uri": "https://localhost:8080/",
          "height": 607
        },
        "id": "2j1hiKE2BDWl",
        "outputId": "a852adc1-5d01-444e-887b-0d8968055503"
      },
      "source": [
        "sns.jointplot(x=df1[\"MedInc\"], y=df1[\"House Price\"]);"
      ],
      "execution_count": null,
      "outputs": [
        {
          "output_type": "display_data",
          "data": {
            "image/png": "[encoded data removed]",
            "text/plain": [
              "<Figure size 600x600 with 3 Axes>"
            ]
          },
          "metadata": {}
        }
      ]
    },
    {
      "cell_type": "code",
      "metadata": {
        "colab": {
          "base_uri": "https://localhost:8080/",
          "height": 607
        },
        "id": "sIw_Fe1PM3eR",
        "outputId": "5a4591e6-7204-44f5-8448-a84b65a226bc"
      },
      "source": [
        "sns.jointplot(x=df1[\"AveBedrms\"], y=df1[\"House Price\"]);"
      ],
      "execution_count": null,
      "outputs": [
        {
          "output_type": "display_data",
          "data": {
            "image/png": "[encoded data removed]",
            "text/plain": [
              "<Figure size 600x600 with 3 Axes>"
            ]
          },
          "metadata": {}
        }
      ]
    },
    {
      "cell_type": "markdown",
      "metadata": {
        "id": "8NPu9fGMKxSh"
      },
      "source": [
        "# Pre Processing\n",
        "\n",
        "\n"
      ]
    },
    {
      "cell_type": "code",
      "metadata": {
        "id": "emDRAToqQUKM"
      },
      "source": [
        "from sklearn.preprocessing import StandardScaler\n",
        "\n",
        "X_train, X_test, y_train, y_test = train_test_split(X, Y, test_size=0.2, random_state=101)\n",
        "\n",
        "s_scaler = StandardScaler()\n",
        "\n",
        "X_train = s_scaler.fit_transform(X_train.astype(np.float))\n",
        "X_test = s_scaler.transform(X_test.astype(np.float))"
      ],
      "execution_count": null,
      "outputs": []
    },
    {
      "cell_type": "markdown",
      "metadata": {
        "id": "pMXAnUVFJFI4"
      },
      "source": [
        "## KNR Implementation"
      ]
    },
    {
      "cell_type": "code",
      "metadata": {
        "id": "-Z_Oo55lcjxx"
      },
      "source": [
        "class KNeighborsRegressor():\n",
        "    \n",
        "  def __init__(self,k):\n",
        "    self.k = k\n",
        "    \n",
        "  def fit(self,X,y):\n",
        "   \t \n",
        "    self.X_train = X\n",
        "    self.y_train = y\n",
        "\n",
        "  def predictions(self,x):\n",
        "   \t \n",
        "    distances = [euclid_distance(x,x_train) for x_train in self.X_train]\n",
        "   \t \n",
        "    k_indices = np.argsort(distances)[:self.k]\n",
        "    k_nearest_labels = [self.y_train[i] for i in k_indices]\n",
        "   \t \n",
        "    y_pred = np.mean(k_nearest_labels)\n",
        "   \t \n",
        "    return y_pred\n",
        "    \n",
        "   \t \n",
        "  def predict(self,X):\n",
        "   \t \n",
        "    predicted_labels = [self.predictions(x) for x in X]\n",
        "       \t \n",
        "    return np.array(predicted_labels)\n",
        "     \n",
        "def euclid_distance(a,b):\n",
        "    \n",
        "\tdist = (a-b)**2\n",
        "\treturn np.sqrt(np.sum(dist))"
      ],
      "execution_count": null,
      "outputs": []
    },
    {
      "cell_type": "markdown",
      "metadata": {
        "id": "OjQ_-RGgQmp5"
      },
      "source": [
        "## Determining K value"
      ]
    },
    {
      "cell_type": "code",
      "metadata": {
        "id": "CQxKser3iebK"
      },
      "source": [
        "TestKvals = pd.DataFrame()\n",
        "tmp = {}\n",
        "\n",
        "for i in range(10,30):\n",
        "\n",
        "  Kval = i\n",
        "  tmp[\"Kval\"] = Kval\n",
        "\n",
        "  model = KNeighbourRegressor(Kval)\n",
        "  model.fit(X_train, y_train)\n",
        "  y_pred = model.predict(X_test)\n",
        "\n",
        "  tmp[\"R2_val\"] = (r2_score(y_test, y_pred))\n",
        "\n",
        "  TestKvals = TestKvals.append([tmp])\n",
        "\n",
        "\n",
        "TestKvals.set_index(\"Kval\", inplace = True)\n",
        "\n",
        "fig, axes = plt.subplots(ncols=1, figsize=(10,4))\n",
        "TestKvals.R2_val.plot(ax=axes, kind=\"line\", title=\"R2 Score\")\n",
        "plt.ylabel('Accuracy')\n",
        "plt.title('KNN Accuracy/Kval')\n",
        "plt.show()\n"
      ],
      "execution_count": null,
      "outputs": []
    },
    {
      "cell_type": "markdown",
      "metadata": {
        "id": "8oDh8EeMpyYM"
      },
      "source": [
        "# Understanding which model to use\n"
      ]
    },
    {
      "cell_type": "code",
      "metadata": {
        "colab": {
          "base_uri": "https://localhost:8080/",
          "height": 482
        },
        "id": "LVInHS11A3Xb",
        "outputId": "7cea7699-a0fc-47c2-e8a8-36077af879af"
      },
      "source": [
        "models = [ LinearRegression(), KNeighborRegressor(20), RandomForestRegressor() ]\n",
        "\n",
        "TestModels = pd.DataFrame()\n",
        "tmp = {}\n",
        "\n",
        "for model in models:\n",
        "  print(model)\n",
        "  m_name = str(model)\n",
        "  tmp[\"Model\"] = m_name[:m_name.index(\"(\")]\n",
        "\n",
        "  model.fit(X_train, y_train)\n",
        "  y_pred = model.predict(X_test)\n",
        "\n",
        "  tmp[\"R2_val\"] = (r2_score(y_test, y_pred))\n",
        "\n",
        "  TestModels = TestModels.append([tmp])\n",
        "\n",
        "TestModels.set_index(\"Model\", inplace = True)\n",
        "\n",
        "fig, axes = plt.subplots(ncols=1, figsize=(10,4))\n",
        "TestModels.R2_val.plot(ax=axes, kind=\"line\", title=\"R2 Score\")\n",
        "plt.ylabel('Accuracy')\n",
        "plt.show()\n"
      ],
      "execution_count": null,
      "outputs": [
        {
          "output_type": "stream",
          "name": "stdout",
          "text": [
            "LinearRegression(copy_X=True, fit_intercept=True, n_jobs=None, normalize=False)\n",
            "KNeighborsRegressor(algorithm='auto', leaf_size=30, metric='minkowski',\n",
            "                    metric_params=None, n_jobs=None, n_neighbors=20, p=2,\n",
            "                    weights='uniform')\n",
            "RandomForestRegressor(bootstrap=True, ccp_alpha=0.0, criterion='mse',\n",
            "                      max_depth=None, max_features='auto', max_leaf_nodes=None,\n",
            "                      max_samples=None, min_impurity_decrease=0.0,\n",
            "                      min_impurity_split=None, min_samples_leaf=1,\n",
            "                      min_samples_split=2, min_weight_fraction_leaf=0.0,\n",
            "                      n_estimators=100, n_jobs=None, oob_score=False,\n",
            "                      random_state=None, verbose=0, warm_start=False)\n"
          ]
        },
        {
          "output_type": "display_data",
          "data": {
            "image/png": "[encoded data removed]",
            "text/plain": [
              "<Figure size 720x288 with 1 Axes>"
            ]
          },
          "metadata": {
            "needs_background": "light"
          }
        }
      ]
    },
    {
      "cell_type": "code",
      "metadata": {
        "id": "oPEP63RKU3nk",
        "colab": {
          "base_uri": "https://localhost:8080/"
        },
        "outputId": "232415c8-fb47-44fe-8a64-a00549a533c1"
      },
      "source": [
        "# model prediction\n",
        "\n",
        "y_pred = model.predict(X_test)\n",
        "print(y_pred)"
      ],
      "execution_count": null,
      "outputs": [
        {
          "output_type": "stream",
          "name": "stdout",
          "text": [
            "[0.27038875 0.54496724 0.46170559 ... 0.41702539 0.46172416 0.59865571]\n"
          ]
        }
      ]
    },
    {
      "cell_type": "code",
      "metadata": {
        "id": "hbbyi1HwTEFy"
      },
      "source": [
        ""
      ],
      "execution_count": null,
      "outputs": []
    },
    {
      "cell_type": "markdown",
      "metadata": {
        "id": "CkDr88JATJkW"
      },
      "source": [
        "## Accuracy of the model"
      ]
    },
    {
      "cell_type": "code",
      "metadata": {
        "colab": {
          "base_uri": "https://localhost:8080/"
        },
        "id": "cFKH-BJCcawW",
        "outputId": "50ef4eb0-fee2-4161-dbbe-3cdfa494d635"
      },
      "source": [
        "MSE_score = MSE(y_test,y_pred)\n",
        "\n",
        "print('R2 score', r2_score(y_test, y_pred))\n",
        "print('Mean Absolute Error:', mean_absolute_error(y_test,\n",
        "y_pred))\n",
        "print('Mean Squared Error:', MSE_score.mean())\n",
        "print('Root Mean Squared Error:', np.sqrt(MSE_score))\n"
      ],
      "execution_count": null,
      "outputs": [
        {
          "output_type": "stream",
          "name": "stdout",
          "text": [
            "R2 score 0.7661347030758191\n",
            "Mean Absolute Error: 0.08079751176869304\n",
            "Mean Squared Error: 0.01399506695335315\n",
            "Root Mean Squared Error: 0.11830074789853676\n"
          ]
        }
      ]
    },
    {
      "cell_type": "markdown",
      "metadata": {
        "id": "-nM9g2brDWWP"
      },
      "source": [
        "# Comparing with Actual"
      ]
    },
    {
      "cell_type": "code",
      "metadata": {
        "colab": {
          "base_uri": "https://localhost:8080/",
          "height": 824
        },
        "id": "tAyRbSDiDNpf",
        "outputId": "2cb75b98-3ec5-49e2-aa89-43d84878605b"
      },
      "source": [
        "dframe = pd.DataFrame({'Actual':y_test.flatten(),'Predicted':y_pred.flatten()})\n",
        "dframe.head(25)"
      ],
      "execution_count": null,
      "outputs": [
        {
          "output_type": "execute_result",
          "data": {
            "text/html": [
              "<div>\n",
              "<style scoped>\n",
              "    .dataframe tbody tr th:only-of-type {\n",
              "        vertical-align: middle;\n",
              "    }\n",
              "\n",
              "    .dataframe tbody tr th {\n",
              "        vertical-align: top;\n",
              "    }\n",
              "\n",
              "    .dataframe thead th {\n",
              "        text-align: right;\n",
              "    }\n",
              "</style>\n",
              "<table border=\"1\" class=\"dataframe\">\n",
              "  <thead>\n",
              "    <tr style=\"text-align: right;\">\n",
              "      <th></th>\n",
              "      <th>Actual</th>\n",
              "      <th>Predicted</th>\n",
              "    </tr>\n",
              "  </thead>\n",
              "  <tbody>\n",
              "    <tr>\n",
              "      <th>0</th>\n",
              "      <td>0.194022</td>\n",
              "      <td>0.270389</td>\n",
              "    </tr>\n",
              "    <tr>\n",
              "      <th>1</th>\n",
              "      <td>0.294228</td>\n",
              "      <td>0.544967</td>\n",
              "    </tr>\n",
              "    <tr>\n",
              "      <th>2</th>\n",
              "      <td>0.453402</td>\n",
              "      <td>0.461706</td>\n",
              "    </tr>\n",
              "    <tr>\n",
              "      <th>3</th>\n",
              "      <td>1.000000</td>\n",
              "      <td>0.991102</td>\n",
              "    </tr>\n",
              "    <tr>\n",
              "      <th>4</th>\n",
              "      <td>0.051136</td>\n",
              "      <td>0.087650</td>\n",
              "    </tr>\n",
              "    <tr>\n",
              "      <th>5</th>\n",
              "      <td>0.269485</td>\n",
              "      <td>0.250873</td>\n",
              "    </tr>\n",
              "    <tr>\n",
              "      <th>6</th>\n",
              "      <td>0.261238</td>\n",
              "      <td>0.389873</td>\n",
              "    </tr>\n",
              "    <tr>\n",
              "      <th>7</th>\n",
              "      <td>0.229692</td>\n",
              "      <td>0.297574</td>\n",
              "    </tr>\n",
              "    <tr>\n",
              "      <th>8</th>\n",
              "      <td>0.099383</td>\n",
              "      <td>0.123569</td>\n",
              "    </tr>\n",
              "    <tr>\n",
              "      <th>9</th>\n",
              "      <td>0.557113</td>\n",
              "      <td>0.550605</td>\n",
              "    </tr>\n",
              "    <tr>\n",
              "      <th>10</th>\n",
              "      <td>0.828452</td>\n",
              "      <td>0.653705</td>\n",
              "    </tr>\n",
              "    <tr>\n",
              "      <th>11</th>\n",
              "      <td>0.241238</td>\n",
              "      <td>0.319996</td>\n",
              "    </tr>\n",
              "    <tr>\n",
              "      <th>12</th>\n",
              "      <td>0.081239</td>\n",
              "      <td>0.142079</td>\n",
              "    </tr>\n",
              "    <tr>\n",
              "      <th>13</th>\n",
              "      <td>0.442268</td>\n",
              "      <td>0.437325</td>\n",
              "    </tr>\n",
              "    <tr>\n",
              "      <th>14</th>\n",
              "      <td>0.214022</td>\n",
              "      <td>0.138918</td>\n",
              "    </tr>\n",
              "    <tr>\n",
              "      <th>15</th>\n",
              "      <td>0.572989</td>\n",
              "      <td>0.451935</td>\n",
              "    </tr>\n",
              "    <tr>\n",
              "      <th>16</th>\n",
              "      <td>0.687010</td>\n",
              "      <td>0.692401</td>\n",
              "    </tr>\n",
              "    <tr>\n",
              "      <th>17</th>\n",
              "      <td>0.158146</td>\n",
              "      <td>0.224217</td>\n",
              "    </tr>\n",
              "    <tr>\n",
              "      <th>18</th>\n",
              "      <td>0.400825</td>\n",
              "      <td>0.459460</td>\n",
              "    </tr>\n",
              "    <tr>\n",
              "      <th>19</th>\n",
              "      <td>1.000000</td>\n",
              "      <td>0.939247</td>\n",
              "    </tr>\n",
              "    <tr>\n",
              "      <th>20</th>\n",
              "      <td>0.513814</td>\n",
              "      <td>0.562120</td>\n",
              "    </tr>\n",
              "    <tr>\n",
              "      <th>21</th>\n",
              "      <td>0.578969</td>\n",
              "      <td>0.677242</td>\n",
              "    </tr>\n",
              "    <tr>\n",
              "      <th>22</th>\n",
              "      <td>0.082476</td>\n",
              "      <td>0.308947</td>\n",
              "    </tr>\n",
              "    <tr>\n",
              "      <th>23</th>\n",
              "      <td>0.294021</td>\n",
              "      <td>0.258138</td>\n",
              "    </tr>\n",
              "    <tr>\n",
              "      <th>24</th>\n",
              "      <td>0.448248</td>\n",
              "      <td>0.445370</td>\n",
              "    </tr>\n",
              "  </tbody>\n",
              "</table>\n",
              "</div>"
            ],
            "text/plain": [
              "      Actual  Predicted\n",
              "0   0.194022   0.270389\n",
              "1   0.294228   0.544967\n",
              "2   0.453402   0.461706\n",
              "3   1.000000   0.991102\n",
              "4   0.051136   0.087650\n",
              "5   0.269485   0.250873\n",
              "6   0.261238   0.389873\n",
              "7   0.229692   0.297574\n",
              "8   0.099383   0.123569\n",
              "9   0.557113   0.550605\n",
              "10  0.828452   0.653705\n",
              "11  0.241238   0.319996\n",
              "12  0.081239   0.142079\n",
              "13  0.442268   0.437325\n",
              "14  0.214022   0.138918\n",
              "15  0.572989   0.451935\n",
              "16  0.687010   0.692401\n",
              "17  0.158146   0.224217\n",
              "18  0.400825   0.459460\n",
              "19  1.000000   0.939247\n",
              "20  0.513814   0.562120\n",
              "21  0.578969   0.677242\n",
              "22  0.082476   0.308947\n",
              "23  0.294021   0.258138\n",
              "24  0.448248   0.445370"
            ]
          },
          "metadata": {},
          "execution_count": 61
        }
      ]
    },
    {
      "cell_type": "code",
      "metadata": {
        "colab": {
          "base_uri": "https://localhost:8080/",
          "height": 285
        },
        "id": "etm__c32V6n9",
        "outputId": "fa7a0dd2-715b-4ff4-80f2-02078826eec1"
      },
      "source": [
        "graph = dframe.head(30)\n",
        "graph.plot(kind='bar')"
      ],
      "execution_count": null,
      "outputs": [
        {
          "output_type": "execute_result",
          "data": {
            "text/plain": [
              "<matplotlib.axes._subplots.AxesSubplot at 0x7fbf76a28e90>"
            ]
          },
          "metadata": {},
          "execution_count": 64
        },
        {
          "output_type": "display_data",
          "data": {
            "image/png": "[encoded data removed]",
            "text/plain": [
              "<Figure size 432x288 with 1 Axes>"
            ]
          },
          "metadata": {
            "needs_background": "light"
          }
        }
      ]
    },
    {
      "cell_type": "markdown",
      "metadata": {
        "id": "5z0nNljzdDCG"
      },
      "source": [
        "# Verifying Model with custom input"
      ]
    },
    {
      "cell_type": "code",
      "metadata": {
        "id": "L8MQmqnMcyDE"
      },
      "source": [
        "custom_inp = np.array([2.3125,\t38.0,\t4.450000,\t0.950000,\t196.0,\t3.266667,\t89])"
      ],
      "execution_count": null,
      "outputs": []
    },
    {
      "cell_type": "code",
      "metadata": {
        "id": "JI0yt1BQdiSV"
      },
      "source": [
        "custom_inp.shape\n",
        "custom_inp = custom_inp.reshape(1,-1)\n"
      ],
      "execution_count": null,
      "outputs": []
    },
    {
      "cell_type": "code",
      "metadata": {
        "colab": {
          "base_uri": "https://localhost:8080/"
        },
        "id": "Wd2ELLsuhYGn",
        "outputId": "e52e30ff-dfd2-4f75-8eb3-33c3e032d1cd"
      },
      "source": [
        "model.predict(custom_inp)"
      ],
      "execution_count": null,
      "outputs": [
        {
          "output_type": "execute_result",
          "data": {
            "text/plain": [
              "array([38.2708479])"
            ]
          },
          "metadata": {},
          "execution_count": 99
        }
      ]
    }
  ]
}